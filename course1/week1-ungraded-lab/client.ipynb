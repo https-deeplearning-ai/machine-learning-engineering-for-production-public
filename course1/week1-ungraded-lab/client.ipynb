{
 "cells": [
  {
   "cell_type": "markdown",
   "id": "4cd5f18a",
   "metadata": {},
   "source": [
    "# Ungraded Lab Part 2 - Consuming a Machine Learning Model\n",
    "\n",
    "Welcome to the second part of this ungraded lab! \n",
    "**Before going forward check that the server from part 1 is still running.**\n",
    "\n",
    "In this notebook you will code a minimal client that uses Python's `requests` library to interact with your running server."
   ]
  },
  {
   "cell_type": "code",
   "execution_count": 1,
   "id": "c2d713ff",
   "metadata": {},
   "outputs": [],
   "source": [
    "import os\n",
    "import io\n",
    "import cv2\n",
    "import requests\n",
    "import numpy as np\n",
    "from IPython.display import Image, display"
   ]
  },
  {
   "cell_type": "markdown",
   "id": "480beb4d",
   "metadata": {},
   "source": [
    "## Understanding the URL\n",
    "\n",
    "\n",
    "### Breaking down the URL\n",
    "\n",
    "After experimenting with the fastAPI's client you may have noticed that we made all requests by pointing to a  specific URL and appending some parameters to it.\n",
    "\n",
    "More concretely:\n",
    "\n",
    "1. The server is hosted in the URL [http://localhost:8000/](http://localhost:8000/).\n",
    "2. The endpoint that serves your model is the `/predict` endpoint.\n",
    "\n",
    "Also you can specify the model to use:  `yolov3` or`yolov3-tiny`. Let's stick to the tiny version for computational efficiency.\n",
    "\n",
    "Let's get started by putting in place all this information."
   ]
  },
  {
   "cell_type": "code",
   "execution_count": 2,
   "id": "2439bbd7",
   "metadata": {},
   "outputs": [],
   "source": [
    "base_url = 'http://localhost:8000'\n",
    "endpoint = '/predict'\n",
    "model = 'yolov3-tiny'"
   ]
  },
  {
   "cell_type": "markdown",
   "id": "2c689cb3",
   "metadata": {},
   "source": [
    "To consume your model, you append the endpoint to the base URL to get the full URL. Notice that the parameters are absent for now."
   ]
  },
  {
   "cell_type": "code",
   "execution_count": 3,
   "id": "b4007edd",
   "metadata": {},
   "outputs": [
    {
     "data": {
      "text/plain": [
       "'http://localhost:8000/predict'"
      ]
     },
     "execution_count": 3,
     "metadata": {},
     "output_type": "execute_result"
    }
   ],
   "source": [
    "url_with_endpoint_no_params = base_url + endpoint\n",
    "url_with_endpoint_no_params"
   ]
  },
  {
   "cell_type": "markdown",
   "id": "2329d0f3",
   "metadata": {},
   "source": [
    "To set any of the expected parameters, the syntax is to add a \"?\" character followed by the name of the parameter and its value.\n",
    "\n",
    "Let's do it and check how the final URL looks like:"
   ]
  },
  {
   "cell_type": "code",
   "execution_count": 17,
   "id": "4669ae28",
   "metadata": {},
   "outputs": [
    {
     "data": {
      "text/plain": [
       "'http://localhost:8000/predict?model=yolov3-tiny&confidence=0.5'"
      ]
     },
     "execution_count": 17,
     "metadata": {},
     "output_type": "execute_result"
    }
   ],
   "source": [
    "full_url = url_with_endpoint_no_params + \"?model=\" + model + \"&confidence=0.5\"\n",
    "full_url"
   ]
  },
  {
   "cell_type": "markdown",
   "id": "ee6576c8",
   "metadata": {},
   "source": [
    "This endpoint expects both a model's name and an image. But since the image is more complex it is not passed within the URL. Instead we leverage the `requests` library to handle this process.\n",
    "\n",
    "# Sending a request to your server\n",
    "\n",
    "### Coding the response_from_server function\n",
    "\n",
    "As a reminder,  this endpoint expects a POST HTTP request. The `post` function is part of the requests library. \n",
    "\n",
    "To pass the file along with the request, you need to create a dictionary indicating the name of the file ('file' in this case) and the actual file.\n",
    "\n",
    " `status code` is a handy command to check the status of the response the request triggered. **A status code of 200 means that everything went well.**"
   ]
  },
  {
   "cell_type": "code",
   "execution_count": 18,
   "id": "cbff1d2e",
   "metadata": {},
   "outputs": [],
   "source": [
    "def response_from_server(url, image_file, verbose=True):\n",
    "    \"\"\"Makes a POST request to the server and returns the response.\n",
    "\n",
    "    Args:\n",
    "        url (str): URL that the request is sent to.\n",
    "        image_file (_io.BufferedReader): File to upload, should be an image.\n",
    "        verbose (bool): True if the status of the response should be printed. False otherwise.\n",
    "\n",
    "    Returns:\n",
    "        requests.models.Response: Response from the server.\n",
    "    \"\"\"\n",
    "    \n",
    "    files = {'file': image_file}\n",
    "    response = requests.post(url, files=files)\n",
    "    status_code = response.status_code\n",
    "    if verbose:\n",
    "        msg = \"Everything went well!\" if status_code == 200 else \"There was an error when handling the request.\"\n",
    "        print(msg)\n",
    "    return response"
   ]
  },
  {
   "cell_type": "markdown",
   "id": "83e6fd34",
   "metadata": {},
   "source": [
    "To test this function, open a file in your filesystem and pass it as a parameter alongside the URL:"
   ]
  },
  {
   "cell_type": "code",
   "execution_count": 19,
   "id": "9b625407",
   "metadata": {},
   "outputs": [
    {
     "name": "stdout",
     "output_type": "stream",
     "text": [
      "Everything went well!\n"
     ]
    }
   ],
   "source": [
    "with open(\"images/fruits.jpg\", \"rb\") as image_file:\n",
    "    prediction = response_from_server(full_url, image_file)"
   ]
  },
  {
   "cell_type": "markdown",
   "id": "cd6fc238",
   "metadata": {},
   "source": [
    "Great news! The request was successful. However, you are not getting any information about the objects in the image.\n",
    "\n",
    "To get the image with the bounding boxes and labels,  you need to parse the content of the response into an appropriate format. This process looks very similar to how you read raw images into a cv2 image on the server.\n",
    "\n",
    "To handle this step, let's create a directory called `images_predicted` to save the image to:"
   ]
  },
  {
   "cell_type": "code",
   "execution_count": 20,
   "id": "717b5a2a",
   "metadata": {},
   "outputs": [],
   "source": [
    "dir_name = \"images_predicted\"\n",
    "if not os.path.exists(dir_name):\n",
    "    os.mkdir(dir_name)"
   ]
  },
  {
   "cell_type": "markdown",
   "id": "0105f833",
   "metadata": {},
   "source": [
    "\n",
    "### Creating the display_image_from_response function"
   ]
  },
  {
   "cell_type": "code",
   "execution_count": 21,
   "id": "46ca3022",
   "metadata": {},
   "outputs": [],
   "source": [
    "def display_image_from_response(response):\n",
    "    \"\"\"Display image within server's response.\n",
    "\n",
    "    Args:\n",
    "        response (requests.models.Response): The response from the server after object detection.\n",
    "    \"\"\"\n",
    "    \n",
    "    image_stream = io.BytesIO(response.content)\n",
    "    image_stream.seek(0)\n",
    "    file_bytes = np.asarray(bytearray(image_stream.read()), dtype=np.uint8)\n",
    "    image = cv2.imdecode(file_bytes, cv2.IMREAD_COLOR)\n",
    "    filename = \"image_with_objects.jpeg\"\n",
    "    cv2.imwrite(f'images_predicted/{filename}', image)\n",
    "    display(Image(f'images_predicted/{filename}'))"
   ]
  },
  {
   "cell_type": "code",
   "execution_count": 22,
   "id": "58b54c78",
   "metadata": {},
   "outputs": [
    {
     "data": {
      "image/jpeg": "[encoded data removed]",
      "text/plain": [
       "<IPython.core.display.Image object>"
      ]
     },
     "metadata": {},
     "output_type": "display_data"
    }
   ],
   "source": [
    "display_image_from_response(prediction)"
   ]
  },
  {
   "cell_type": "markdown",
   "id": "01d54d97",
   "metadata": {},
   "source": [
    "Now you are ready to consume your object detection model through your own client!\n",
    "\n",
    "Let's test it out on some other images:"
   ]
  },
  {
   "cell_type": "code",
   "execution_count": null,
   "id": "e380ad4a",
   "metadata": {},
   "outputs": [],
   "source": [
    "image_files = [\n",
    "    'car2.jpg',\n",
    "    'clock3.jpg',\n",
    "    'apples.jpg'\n",
    "]\n",
    "\n",
    "for image_file in image_files:\n",
    "    with open(f\"images/{image_file}\", \"rb\") as image_file:\n",
    "        prediction = response_from_server(full_url, image_file, verbose=False)\n",
    "    \n",
    "    display_image_from_response(prediction)"
   ]
  },
  {
   "cell_type": "markdown",
   "id": "edbdfab3",
   "metadata": {},
   "source": [
    "**Congratulations on finishing this ungraded lab!** Real life clients and servers have a lot more going on in terms of security and performance. However, the code you just experienced is close to what you see in real production environments. \n",
    "Hopefully, this lab served the purpose of increasing your familiarity with the process of deploying a Deep Learning model, and consuming from it.\n",
    "\n",
    "**Keep it up!**"
   ]
  },
  {
   "cell_type": "markdown",
   "id": "14b0f123",
   "metadata": {},
   "source": [
    "# \n",
    "## Optional Challenge - Adding the confidence level to the request\n",
    "\n",
    "Let's expand on what you have learned so far. The next logical step is to extend the server and the client so that they can accommodate an additional parameter: the level of confidence of the prediction. \n",
    "\n",
    "**To test your extended implementation you must perform the following steps:**\n",
    "\n",
    "- Stop the server by interrupting the Kernel.\n",
    "- Extend the `prediction` function in the server.\n",
    "- Re run the cell containing your server code.\n",
    "- Re launch the server.\n",
    "- Extend your client.\n",
    "- Test it with some images (either with your client or fastAPI's one).\n",
    "\n",
    "Here are some hints that can help you out throughout the process:\n",
    "\n",
    "#### Server side:\n",
    "- The `prediction` function that handles the `/predict` endpoint needs an additional parameter to accept the confidence level. Add this new parameter before the `File` parameter. This is necessary because `File` has a default value and must be specified last.\n",
    "\n",
    "\n",
    "- `cv.detect_common_objects` accepts the `confidence` parameter, which is a floating point number (type `float`in Python).\n",
    "\n",
    "\n",
    "#### Client side:\n",
    "- You can add a new parameter to the URL by extending it with an `&` followed by the name of the parameter and its value. The name of this new parameter must be equal to the name used within the `prediction` function in the server. An example would look like this: `myawesomemodel.com/predict?model=yolov3-tiny&newParam=value`\n",
    "\n",
    "\n",
    "**You can do it!**"
   ]
  }
 ],
 "metadata": {
  "kernelspec": {
   "display_name": "Python 3",
   "language": "python",
   "name": "python3"
  },
  "language_info": {
   "codemirror_mode": {
    "name": "ipython",
    "version": 3
   },
   "file_extension": ".py",
   "mimetype": "text/x-python",
   "name": "python",
   "nbconvert_exporter": "python",
   "pygments_lexer": "ipython3",
   "version": "3.8.5"
  }
 },
 "nbformat": 4,
 "nbformat_minor": 5
}
